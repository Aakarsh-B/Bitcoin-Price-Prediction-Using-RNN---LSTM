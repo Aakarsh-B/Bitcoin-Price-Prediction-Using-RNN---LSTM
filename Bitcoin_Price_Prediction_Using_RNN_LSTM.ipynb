{
  "nbformat": 4,
  "nbformat_minor": 0,
  "metadata": {
    "kernelspec": {
      "display_name": "Python 3",
      "language": "python",
      "name": "python3"
    },
    "language_info": {
      "codemirror_mode": {
        "name": "ipython",
        "version": 3
      },
      "file_extension": ".py",
      "mimetype": "text/x-python",
      "name": "python",
      "nbconvert_exporter": "python",
      "pygments_lexer": "ipython3",
      "version": "3.8.2"
    },
    "colab": {
      "name": "Bitcoin Price Prediction Using RNN - LSTM.ipynb",
      "provenance": [],
      "include_colab_link": true
    }
  },
  "cells": [
    {
      "cell_type": "markdown",
      "metadata": {
        "id": "view-in-github",
        "colab_type": "text"
      },
      "source": [
        "<a href=\"https://colab.research.google.com/github/Aakarsh-B/Bitcoin-Price-Prediction-Using-RNN---LSTM/blob/master/Bitcoin_Price_Prediction_Using_RNN_LSTM.ipynb\" target=\"_parent\"><img src=\"https://colab.research.google.com/assets/colab-badge.svg\" alt=\"Open In Colab\"/></a>"
      ]
    },
    {
      "cell_type": "code",
      "metadata": {
        "id": "kR8Ui_lqQBEO"
      },
      "source": [
        "import numpy as np\n",
        "import matplotlib.pyplot as plt\n",
        "import pandas as pd\n",
        "from sklearn.preprocessing import MinMaxScaler"
      ],
      "execution_count": null,
      "outputs": []
    },
    {
      "cell_type": "code",
      "metadata": {
        "colab": {
          "resources": {
            "http://localhost:8080/nbextensions/google.colab/files.js": {
              "data": "Ly8gQ29weXJpZ2h0IDIwMTcgR29vZ2xlIExMQwovLwovLyBMaWNlbnNlZCB1bmRlciB0aGUgQXBhY2hlIExpY2Vuc2UsIFZlcnNpb24gMi4wICh0aGUgIkxpY2Vuc2UiKTsKLy8geW91IG1heSBub3QgdXNlIHRoaXMgZmlsZSBleGNlcHQgaW4gY29tcGxpYW5jZSB3aXRoIHRoZSBMaWNlbnNlLgovLyBZb3UgbWF5IG9idGFpbiBhIGNvcHkgb2YgdGhlIExpY2Vuc2UgYXQKLy8KLy8gICAgICBodHRwOi8vd3d3LmFwYWNoZS5vcmcvbGljZW5zZXMvTElDRU5TRS0yLjAKLy8KLy8gVW5sZXNzIHJlcXVpcmVkIGJ5IGFwcGxpY2FibGUgbGF3IG9yIGFncmVlZCB0byBpbiB3cml0aW5nLCBzb2Z0d2FyZQovLyBkaXN0cmlidXRlZCB1bmRlciB0aGUgTGljZW5zZSBpcyBkaXN0cmlidXRlZCBvbiBhbiAiQVMgSVMiIEJBU0lTLAovLyBXSVRIT1VUIFdBUlJBTlRJRVMgT1IgQ09ORElUSU9OUyBPRiBBTlkgS0lORCwgZWl0aGVyIGV4cHJlc3Mgb3IgaW1wbGllZC4KLy8gU2VlIHRoZSBMaWNlbnNlIGZvciB0aGUgc3BlY2lmaWMgbGFuZ3VhZ2UgZ292ZXJuaW5nIHBlcm1pc3Npb25zIGFuZAovLyBsaW1pdGF0aW9ucyB1bmRlciB0aGUgTGljZW5zZS4KCi8qKgogKiBAZmlsZW92ZXJ2aWV3IEhlbHBlcnMgZm9yIGdvb2dsZS5jb2xhYiBQeXRob24gbW9kdWxlLgogKi8KKGZ1bmN0aW9uKHNjb3BlKSB7CmZ1bmN0aW9uIHNwYW4odGV4dCwgc3R5bGVBdHRyaWJ1dGVzID0ge30pIHsKICBjb25zdCBlbGVtZW50ID0gZG9jdW1lbnQuY3JlYXRlRWxlbWVudCgnc3BhbicpOwogIGVsZW1lbnQudGV4dENvbnRlbnQgPSB0ZXh0OwogIGZvciAoY29uc3Qga2V5IG9mIE9iamVjdC5rZXlzKHN0eWxlQXR0cmlidXRlcykpIHsKICAgIGVsZW1lbnQuc3R5bGVba2V5XSA9IHN0eWxlQXR0cmlidXRlc1trZXldOwogIH0KICByZXR1cm4gZWxlbWVudDsKfQoKLy8gTWF4IG51bWJlciBvZiBieXRlcyB3aGljaCB3aWxsIGJlIHVwbG9hZGVkIGF0IGEgdGltZS4KY29uc3QgTUFYX1BBWUxPQURfU0laRSA9IDEwMCAqIDEwMjQ7CgpmdW5jdGlvbiBfdXBsb2FkRmlsZXMoaW5wdXRJZCwgb3V0cHV0SWQpIHsKICBjb25zdCBzdGVwcyA9IHVwbG9hZEZpbGVzU3RlcChpbnB1dElkLCBvdXRwdXRJZCk7CiAgY29uc3Qgb3V0cHV0RWxlbWVudCA9IGRvY3VtZW50LmdldEVsZW1lbnRCeUlkKG91dHB1dElkKTsKICAvLyBDYWNoZSBzdGVwcyBvbiB0aGUgb3V0cHV0RWxlbWVudCB0byBtYWtlIGl0IGF2YWlsYWJsZSBmb3IgdGhlIG5leHQgY2FsbAogIC8vIHRvIHVwbG9hZEZpbGVzQ29udGludWUgZnJvbSBQeXRob24uCiAgb3V0cHV0RWxlbWVudC5zdGVwcyA9IHN0ZXBzOwoKICByZXR1cm4gX3VwbG9hZEZpbGVzQ29udGludWUob3V0cHV0SWQpOwp9CgovLyBUaGlzIGlzIHJvdWdobHkgYW4gYXN5bmMgZ2VuZXJhdG9yIChub3Qgc3VwcG9ydGVkIGluIHRoZSBicm93c2VyIHlldCksCi8vIHdoZXJlIHRoZXJlIGFyZSBtdWx0aXBsZSBhc3luY2hyb25vdXMgc3RlcHMgYW5kIHRoZSBQeXRob24gc2lkZSBpcyBnb2luZwovLyB0byBwb2xsIGZvciBjb21wbGV0aW9uIG9mIGVhY2ggc3RlcC4KLy8gVGhpcyB1c2VzIGEgUHJvbWlzZSB0byBibG9jayB0aGUgcHl0aG9uIHNpZGUgb24gY29tcGxldGlvbiBvZiBlYWNoIHN0ZXAsCi8vIHRoZW4gcGFzc2VzIHRoZSByZXN1bHQgb2YgdGhlIHByZXZpb3VzIHN0ZXAgYXMgdGhlIGlucHV0IHRvIHRoZSBuZXh0IHN0ZXAuCmZ1bmN0aW9uIF91cGxvYWRGaWxlc0NvbnRpbnVlKG91dHB1dElkKSB7CiAgY29uc3Qgb3V0cHV0RWxlbWVudCA9IGRvY3VtZW50LmdldEVsZW1lbnRCeUlkKG91dHB1dElkKTsKICBjb25zdCBzdGVwcyA9IG91dHB1dEVsZW1lbnQuc3RlcHM7CgogIGNvbnN0IG5leHQgPSBzdGVwcy5uZXh0KG91dHB1dEVsZW1lbnQubGFzdFByb21pc2VWYWx1ZSk7CiAgcmV0dXJuIFByb21pc2UucmVzb2x2ZShuZXh0LnZhbHVlLnByb21pc2UpLnRoZW4oKHZhbHVlKSA9PiB7CiAgICAvLyBDYWNoZSB0aGUgbGFzdCBwcm9taXNlIHZhbHVlIHRvIG1ha2UgaXQgYXZhaWxhYmxlIHRvIHRoZSBuZXh0CiAgICAvLyBzdGVwIG9mIHRoZSBnZW5lcmF0b3IuCiAgICBvdXRwdXRFbGVtZW50Lmxhc3RQcm9taXNlVmFsdWUgPSB2YWx1ZTsKICAgIHJldHVybiBuZXh0LnZhbHVlLnJlc3BvbnNlOwogIH0pOwp9CgovKioKICogR2VuZXJhdG9yIGZ1bmN0aW9uIHdoaWNoIGlzIGNhbGxlZCBiZXR3ZWVuIGVhY2ggYXN5bmMgc3RlcCBvZiB0aGUgdXBsb2FkCiAqIHByb2Nlc3MuCiAqIEBwYXJhbSB7c3RyaW5nfSBpbnB1dElkIEVsZW1lbnQgSUQgb2YgdGhlIGlucHV0IGZpbGUgcGlja2VyIGVsZW1lbnQuCiAqIEBwYXJhbSB7c3RyaW5nfSBvdXRwdXRJZCBFbGVtZW50IElEIG9mIHRoZSBvdXRwdXQgZGlzcGxheS4KICogQHJldHVybiB7IUl0ZXJhYmxlPCFPYmplY3Q+fSBJdGVyYWJsZSBvZiBuZXh0IHN0ZXBzLgogKi8KZnVuY3Rpb24qIHVwbG9hZEZpbGVzU3RlcChpbnB1dElkLCBvdXRwdXRJZCkgewogIGNvbnN0IGlucHV0RWxlbWVudCA9IGRvY3VtZW50LmdldEVsZW1lbnRCeUlkKGlucHV0SWQpOwogIGlucHV0RWxlbWVudC5kaXNhYmxlZCA9IGZhbHNlOwoKICBjb25zdCBvdXRwdXRFbGVtZW50ID0gZG9jdW1lbnQuZ2V0RWxlbWVudEJ5SWQob3V0cHV0SWQpOwogIG91dHB1dEVsZW1lbnQuaW5uZXJIVE1MID0gJyc7CgogIGNvbnN0IHBpY2tlZFByb21pc2UgPSBuZXcgUHJvbWlzZSgocmVzb2x2ZSkgPT4gewogICAgaW5wdXRFbGVtZW50LmFkZEV2ZW50TGlzdGVuZXIoJ2NoYW5nZScsIChlKSA9PiB7CiAgICAgIHJlc29sdmUoZS50YXJnZXQuZmlsZXMpOwogICAgfSk7CiAgfSk7CgogIGNvbnN0IGNhbmNlbCA9IGRvY3VtZW50LmNyZWF0ZUVsZW1lbnQoJ2J1dHRvbicpOwogIGlucHV0RWxlbWVudC5wYXJlbnRFbGVtZW50LmFwcGVuZENoaWxkKGNhbmNlbCk7CiAgY2FuY2VsLnRleHRDb250ZW50ID0gJ0NhbmNlbCB1cGxvYWQnOwogIGNvbnN0IGNhbmNlbFByb21pc2UgPSBuZXcgUHJvbWlzZSgocmVzb2x2ZSkgPT4gewogICAgY2FuY2VsLm9uY2xpY2sgPSAoKSA9PiB7CiAgICAgIHJlc29sdmUobnVsbCk7CiAgICB9OwogIH0pOwoKICAvLyBXYWl0IGZvciB0aGUgdXNlciB0byBwaWNrIHRoZSBmaWxlcy4KICBjb25zdCBmaWxlcyA9IHlpZWxkIHsKICAgIHByb21pc2U6IFByb21pc2UucmFjZShbcGlja2VkUHJvbWlzZSwgY2FuY2VsUHJvbWlzZV0pLAogICAgcmVzcG9uc2U6IHsKICAgICAgYWN0aW9uOiAnc3RhcnRpbmcnLAogICAgfQogIH07CgogIGNhbmNlbC5yZW1vdmUoKTsKCiAgLy8gRGlzYWJsZSB0aGUgaW5wdXQgZWxlbWVudCBzaW5jZSBmdXJ0aGVyIHBpY2tzIGFyZSBub3QgYWxsb3dlZC4KICBpbnB1dEVsZW1lbnQuZGlzYWJsZWQgPSB0cnVlOwoKICBpZiAoIWZpbGVzKSB7CiAgICByZXR1cm4gewogICAgICByZXNwb25zZTogewogICAgICAgIGFjdGlvbjogJ2NvbXBsZXRlJywKICAgICAgfQogICAgfTsKICB9CgogIGZvciAoY29uc3QgZmlsZSBvZiBmaWxlcykgewogICAgY29uc3QgbGkgPSBkb2N1bWVudC5jcmVhdGVFbGVtZW50KCdsaScpOwogICAgbGkuYXBwZW5kKHNwYW4oZmlsZS5uYW1lLCB7Zm9udFdlaWdodDogJ2JvbGQnfSkpOwogICAgbGkuYXBwZW5kKHNwYW4oCiAgICAgICAgYCgke2ZpbGUudHlwZSB8fCAnbi9hJ30pIC0gJHtmaWxlLnNpemV9IGJ5dGVzLCBgICsKICAgICAgICBgbGFzdCBtb2RpZmllZDogJHsKICAgICAgICAgICAgZmlsZS5sYXN0TW9kaWZpZWREYXRlID8gZmlsZS5sYXN0TW9kaWZpZWREYXRlLnRvTG9jYWxlRGF0ZVN0cmluZygpIDoKICAgICAgICAgICAgICAgICAgICAgICAgICAgICAgICAgICAgJ24vYSd9IC0gYCkpOwogICAgY29uc3QgcGVyY2VudCA9IHNwYW4oJzAlIGRvbmUnKTsKICAgIGxpLmFwcGVuZENoaWxkKHBlcmNlbnQpOwoKICAgIG91dHB1dEVsZW1lbnQuYXBwZW5kQ2hpbGQobGkpOwoKICAgIGNvbnN0IGZpbGVEYXRhUHJvbWlzZSA9IG5ldyBQcm9taXNlKChyZXNvbHZlKSA9PiB7CiAgICAgIGNvbnN0IHJlYWRlciA9IG5ldyBGaWxlUmVhZGVyKCk7CiAgICAgIHJlYWRlci5vbmxvYWQgPSAoZSkgPT4gewogICAgICAgIHJlc29sdmUoZS50YXJnZXQucmVzdWx0KTsKICAgICAgfTsKICAgICAgcmVhZGVyLnJlYWRBc0FycmF5QnVmZmVyKGZpbGUpOwogICAgfSk7CiAgICAvLyBXYWl0IGZvciB0aGUgZGF0YSB0byBiZSByZWFkeS4KICAgIGxldCBmaWxlRGF0YSA9IHlpZWxkIHsKICAgICAgcHJvbWlzZTogZmlsZURhdGFQcm9taXNlLAogICAgICByZXNwb25zZTogewogICAgICAgIGFjdGlvbjogJ2NvbnRpbnVlJywKICAgICAgfQogICAgfTsKCiAgICAvLyBVc2UgYSBjaHVua2VkIHNlbmRpbmcgdG8gYXZvaWQgbWVzc2FnZSBzaXplIGxpbWl0cy4gU2VlIGIvNjIxMTU2NjAuCiAgICBsZXQgcG9zaXRpb24gPSAwOwogICAgd2hpbGUgKHBvc2l0aW9uIDwgZmlsZURhdGEuYnl0ZUxlbmd0aCkgewogICAgICBjb25zdCBsZW5ndGggPSBNYXRoLm1pbihmaWxlRGF0YS5ieXRlTGVuZ3RoIC0gcG9zaXRpb24sIE1BWF9QQVlMT0FEX1NJWkUpOwogICAgICBjb25zdCBjaHVuayA9IG5ldyBVaW50OEFycmF5KGZpbGVEYXRhLCBwb3NpdGlvbiwgbGVuZ3RoKTsKICAgICAgcG9zaXRpb24gKz0gbGVuZ3RoOwoKICAgICAgY29uc3QgYmFzZTY0ID0gYnRvYShTdHJpbmcuZnJvbUNoYXJDb2RlLmFwcGx5KG51bGwsIGNodW5rKSk7CiAgICAgIHlpZWxkIHsKICAgICAgICByZXNwb25zZTogewogICAgICAgICAgYWN0aW9uOiAnYXBwZW5kJywKICAgICAgICAgIGZpbGU6IGZpbGUubmFtZSwKICAgICAgICAgIGRhdGE6IGJhc2U2NCwKICAgICAgICB9LAogICAgICB9OwogICAgICBwZXJjZW50LnRleHRDb250ZW50ID0KICAgICAgICAgIGAke01hdGgucm91bmQoKHBvc2l0aW9uIC8gZmlsZURhdGEuYnl0ZUxlbmd0aCkgKiAxMDApfSUgZG9uZWA7CiAgICB9CiAgfQoKICAvLyBBbGwgZG9uZS4KICB5aWVsZCB7CiAgICByZXNwb25zZTogewogICAgICBhY3Rpb246ICdjb21wbGV0ZScsCiAgICB9CiAgfTsKfQoKc2NvcGUuZ29vZ2xlID0gc2NvcGUuZ29vZ2xlIHx8IHt9OwpzY29wZS5nb29nbGUuY29sYWIgPSBzY29wZS5nb29nbGUuY29sYWIgfHwge307CnNjb3BlLmdvb2dsZS5jb2xhYi5fZmlsZXMgPSB7CiAgX3VwbG9hZEZpbGVzLAogIF91cGxvYWRGaWxlc0NvbnRpbnVlLAp9Owp9KShzZWxmKTsK",
              "ok": true,
              "headers": [
                [
                  "content-type",
                  "application/javascript"
                ]
              ],
              "status": 200,
              "status_text": ""
            }
          },
          "base_uri": "https://localhost:8080/",
          "height": 72
        },
        "id": "6IxIvRDRQBEe",
        "outputId": "49660ff5-2e6b-4aa5-d032-8267e06fac34"
      },
      "source": [
        "from google.colab import files\n",
        "uploaded = files.upload()"
      ],
      "execution_count": null,
      "outputs": [
        {
          "output_type": "display_data",
          "data": {
            "text/html": [
              "\n",
              "     <input type=\"file\" id=\"files-65d04c6e-a427-4f31-b3a3-6d1928892cd8\" name=\"files[]\" multiple disabled\n",
              "        style=\"border:none\" />\n",
              "     <output id=\"result-65d04c6e-a427-4f31-b3a3-6d1928892cd8\">\n",
              "      Upload widget is only available when the cell has been executed in the\n",
              "      current browser session. Please rerun this cell to enable.\n",
              "      </output>\n",
              "      <script src=\"/nbextensions/google.colab/files.js\"></script> "
            ],
            "text/plain": [
              "<IPython.core.display.HTML object>"
            ]
          },
          "metadata": {
            "tags": []
          }
        },
        {
          "output_type": "stream",
          "text": [
            "Saving BTC-USD.csv to BTC-USD (2).csv\n"
          ],
          "name": "stdout"
        }
      ]
    },
    {
      "cell_type": "markdown",
      "metadata": {
        "id": "Nfm8fEBLmBFr"
      },
      "source": [
        ""
      ]
    },
    {
      "cell_type": "code",
      "metadata": {
        "id": "uCSIYUVxQqvX"
      },
      "source": [
        "import io\n",
        "data = pd.read_csv(io.BytesIO(uploaded['BTC-USD.csv']))"
      ],
      "execution_count": null,
      "outputs": []
    },
    {
      "cell_type": "code",
      "metadata": {
        "colab": {
          "base_uri": "https://localhost:8080/",
          "height": 419
        },
        "id": "awlb5RYmQBEh",
        "outputId": "d998a874-d3ed-4efa-a184-95065c0b9fdf"
      },
      "source": [
        "data_training = data[data['Date']< '2020-12-01'].copy()\n",
        "data_training"
      ],
      "execution_count": null,
      "outputs": [
        {
          "output_type": "execute_result",
          "data": {
            "text/html": [
              "<div>\n",
              "<style scoped>\n",
              "    .dataframe tbody tr th:only-of-type {\n",
              "        vertical-align: middle;\n",
              "    }\n",
              "\n",
              "    .dataframe tbody tr th {\n",
              "        vertical-align: top;\n",
              "    }\n",
              "\n",
              "    .dataframe thead th {\n",
              "        text-align: right;\n",
              "    }\n",
              "</style>\n",
              "<table border=\"1\" class=\"dataframe\">\n",
              "  <thead>\n",
              "    <tr style=\"text-align: right;\">\n",
              "      <th></th>\n",
              "      <th>Date</th>\n",
              "      <th>Open</th>\n",
              "      <th>High</th>\n",
              "      <th>Low</th>\n",
              "      <th>Close</th>\n",
              "      <th>Adj Close</th>\n",
              "      <th>Volume</th>\n",
              "    </tr>\n",
              "  </thead>\n",
              "  <tbody>\n",
              "    <tr>\n",
              "      <th>0</th>\n",
              "      <td>2014-09-17</td>\n",
              "      <td>465.864014</td>\n",
              "      <td>468.174011</td>\n",
              "      <td>452.421997</td>\n",
              "      <td>457.334015</td>\n",
              "      <td>457.334015</td>\n",
              "      <td>21056800</td>\n",
              "    </tr>\n",
              "    <tr>\n",
              "      <th>1</th>\n",
              "      <td>2014-09-18</td>\n",
              "      <td>456.859985</td>\n",
              "      <td>456.859985</td>\n",
              "      <td>413.104004</td>\n",
              "      <td>424.440002</td>\n",
              "      <td>424.440002</td>\n",
              "      <td>34483200</td>\n",
              "    </tr>\n",
              "    <tr>\n",
              "      <th>2</th>\n",
              "      <td>2014-09-19</td>\n",
              "      <td>424.102997</td>\n",
              "      <td>427.834991</td>\n",
              "      <td>384.532013</td>\n",
              "      <td>394.795990</td>\n",
              "      <td>394.795990</td>\n",
              "      <td>37919700</td>\n",
              "    </tr>\n",
              "    <tr>\n",
              "      <th>3</th>\n",
              "      <td>2014-09-20</td>\n",
              "      <td>394.673004</td>\n",
              "      <td>423.295990</td>\n",
              "      <td>389.882996</td>\n",
              "      <td>408.903992</td>\n",
              "      <td>408.903992</td>\n",
              "      <td>36863600</td>\n",
              "    </tr>\n",
              "    <tr>\n",
              "      <th>4</th>\n",
              "      <td>2014-09-21</td>\n",
              "      <td>408.084991</td>\n",
              "      <td>412.425995</td>\n",
              "      <td>393.181000</td>\n",
              "      <td>398.821014</td>\n",
              "      <td>398.821014</td>\n",
              "      <td>26580100</td>\n",
              "    </tr>\n",
              "    <tr>\n",
              "      <th>...</th>\n",
              "      <td>...</td>\n",
              "      <td>...</td>\n",
              "      <td>...</td>\n",
              "      <td>...</td>\n",
              "      <td>...</td>\n",
              "      <td>...</td>\n",
              "      <td>...</td>\n",
              "    </tr>\n",
              "    <tr>\n",
              "      <th>2262</th>\n",
              "      <td>2020-11-26</td>\n",
              "      <td>18729.839844</td>\n",
              "      <td>18866.285156</td>\n",
              "      <td>16351.035156</td>\n",
              "      <td>17150.623047</td>\n",
              "      <td>17150.623047</td>\n",
              "      <td>61396835736</td>\n",
              "    </tr>\n",
              "    <tr>\n",
              "      <th>2263</th>\n",
              "      <td>2020-11-27</td>\n",
              "      <td>17153.914063</td>\n",
              "      <td>17445.023438</td>\n",
              "      <td>16526.423828</td>\n",
              "      <td>17108.402344</td>\n",
              "      <td>17108.402344</td>\n",
              "      <td>38886494645</td>\n",
              "    </tr>\n",
              "    <tr>\n",
              "      <th>2264</th>\n",
              "      <td>2020-11-28</td>\n",
              "      <td>17112.933594</td>\n",
              "      <td>17853.939453</td>\n",
              "      <td>16910.652344</td>\n",
              "      <td>17717.414063</td>\n",
              "      <td>17717.414063</td>\n",
              "      <td>32601040733</td>\n",
              "    </tr>\n",
              "    <tr>\n",
              "      <th>2265</th>\n",
              "      <td>2020-11-29</td>\n",
              "      <td>17719.634766</td>\n",
              "      <td>18283.628906</td>\n",
              "      <td>17559.117188</td>\n",
              "      <td>18177.484375</td>\n",
              "      <td>18177.484375</td>\n",
              "      <td>31133957704</td>\n",
              "    </tr>\n",
              "    <tr>\n",
              "      <th>2266</th>\n",
              "      <td>2020-11-30</td>\n",
              "      <td>18178.322266</td>\n",
              "      <td>19749.263672</td>\n",
              "      <td>18178.322266</td>\n",
              "      <td>19625.835938</td>\n",
              "      <td>19625.835938</td>\n",
              "      <td>47728480399</td>\n",
              "    </tr>\n",
              "  </tbody>\n",
              "</table>\n",
              "<p>2267 rows × 7 columns</p>\n",
              "</div>"
            ],
            "text/plain": [
              "            Date          Open  ...     Adj Close       Volume\n",
              "0     2014-09-17    465.864014  ...    457.334015     21056800\n",
              "1     2014-09-18    456.859985  ...    424.440002     34483200\n",
              "2     2014-09-19    424.102997  ...    394.795990     37919700\n",
              "3     2014-09-20    394.673004  ...    408.903992     36863600\n",
              "4     2014-09-21    408.084991  ...    398.821014     26580100\n",
              "...          ...           ...  ...           ...          ...\n",
              "2262  2020-11-26  18729.839844  ...  17150.623047  61396835736\n",
              "2263  2020-11-27  17153.914063  ...  17108.402344  38886494645\n",
              "2264  2020-11-28  17112.933594  ...  17717.414063  32601040733\n",
              "2265  2020-11-29  17719.634766  ...  18177.484375  31133957704\n",
              "2266  2020-11-30  18178.322266  ...  19625.835938  47728480399\n",
              "\n",
              "[2267 rows x 7 columns]"
            ]
          },
          "metadata": {
            "tags": []
          },
          "execution_count": 63
        }
      ]
    },
    {
      "cell_type": "code",
      "metadata": {
        "colab": {
          "base_uri": "https://localhost:8080/",
          "height": 1000
        },
        "id": "S1D3SVsuQBEi",
        "outputId": "e68bb992-b6d3-42ff-bc6e-a54f71ea998c"
      },
      "source": [
        "data_test = data[data['Date']> '2020-12-01'].copy()\n",
        "data_test"
      ],
      "execution_count": null,
      "outputs": [
        {
          "output_type": "execute_result",
          "data": {
            "text/html": [
              "<div>\n",
              "<style scoped>\n",
              "    .dataframe tbody tr th:only-of-type {\n",
              "        vertical-align: middle;\n",
              "    }\n",
              "\n",
              "    .dataframe tbody tr th {\n",
              "        vertical-align: top;\n",
              "    }\n",
              "\n",
              "    .dataframe thead th {\n",
              "        text-align: right;\n",
              "    }\n",
              "</style>\n",
              "<table border=\"1\" class=\"dataframe\">\n",
              "  <thead>\n",
              "    <tr style=\"text-align: right;\">\n",
              "      <th></th>\n",
              "      <th>Date</th>\n",
              "      <th>Open</th>\n",
              "      <th>High</th>\n",
              "      <th>Low</th>\n",
              "      <th>Close</th>\n",
              "      <th>Adj Close</th>\n",
              "      <th>Volume</th>\n",
              "    </tr>\n",
              "  </thead>\n",
              "  <tbody>\n",
              "    <tr>\n",
              "      <th>2268</th>\n",
              "      <td>2020-12-02</td>\n",
              "      <td>18801.744141</td>\n",
              "      <td>19308.330078</td>\n",
              "      <td>18347.718750</td>\n",
              "      <td>19201.091797</td>\n",
              "      <td>19201.091797</td>\n",
              "      <td>37387697138</td>\n",
              "    </tr>\n",
              "    <tr>\n",
              "      <th>2269</th>\n",
              "      <td>2020-12-03</td>\n",
              "      <td>19205.925781</td>\n",
              "      <td>19566.191406</td>\n",
              "      <td>18925.785156</td>\n",
              "      <td>19445.398438</td>\n",
              "      <td>19445.398438</td>\n",
              "      <td>31930317405</td>\n",
              "    </tr>\n",
              "    <tr>\n",
              "      <th>2270</th>\n",
              "      <td>2020-12-04</td>\n",
              "      <td>19446.966797</td>\n",
              "      <td>19511.404297</td>\n",
              "      <td>18697.193359</td>\n",
              "      <td>18699.765625</td>\n",
              "      <td>18699.765625</td>\n",
              "      <td>33872388057</td>\n",
              "    </tr>\n",
              "    <tr>\n",
              "      <th>2271</th>\n",
              "      <td>2020-12-05</td>\n",
              "      <td>18698.384766</td>\n",
              "      <td>19160.449219</td>\n",
              "      <td>18590.193359</td>\n",
              "      <td>19154.230469</td>\n",
              "      <td>19154.230469</td>\n",
              "      <td>27242455063</td>\n",
              "    </tr>\n",
              "    <tr>\n",
              "      <th>2272</th>\n",
              "      <td>2020-12-06</td>\n",
              "      <td>19154.179688</td>\n",
              "      <td>19390.500000</td>\n",
              "      <td>18897.894531</td>\n",
              "      <td>19345.121094</td>\n",
              "      <td>19345.121094</td>\n",
              "      <td>25293775713</td>\n",
              "    </tr>\n",
              "    <tr>\n",
              "      <th>2273</th>\n",
              "      <td>2020-12-07</td>\n",
              "      <td>19343.128906</td>\n",
              "      <td>19411.828125</td>\n",
              "      <td>18931.142578</td>\n",
              "      <td>19191.630859</td>\n",
              "      <td>19191.630859</td>\n",
              "      <td>26896357742</td>\n",
              "    </tr>\n",
              "    <tr>\n",
              "      <th>2274</th>\n",
              "      <td>2020-12-08</td>\n",
              "      <td>19191.529297</td>\n",
              "      <td>19283.478516</td>\n",
              "      <td>18269.945313</td>\n",
              "      <td>18321.144531</td>\n",
              "      <td>18321.144531</td>\n",
              "      <td>31692288756</td>\n",
              "    </tr>\n",
              "    <tr>\n",
              "      <th>2275</th>\n",
              "      <td>2020-12-09</td>\n",
              "      <td>18320.884766</td>\n",
              "      <td>18626.292969</td>\n",
              "      <td>17935.546875</td>\n",
              "      <td>18553.916016</td>\n",
              "      <td>18553.916016</td>\n",
              "      <td>34420373070</td>\n",
              "    </tr>\n",
              "    <tr>\n",
              "      <th>2276</th>\n",
              "      <td>2020-12-10</td>\n",
              "      <td>18553.298828</td>\n",
              "      <td>18553.298828</td>\n",
              "      <td>17957.064453</td>\n",
              "      <td>18264.992188</td>\n",
              "      <td>18264.992188</td>\n",
              "      <td>25547132265</td>\n",
              "    </tr>\n",
              "    <tr>\n",
              "      <th>2277</th>\n",
              "      <td>2020-12-11</td>\n",
              "      <td>18263.929688</td>\n",
              "      <td>18268.453125</td>\n",
              "      <td>17619.533203</td>\n",
              "      <td>18058.904297</td>\n",
              "      <td>18058.904297</td>\n",
              "      <td>27919640985</td>\n",
              "    </tr>\n",
              "    <tr>\n",
              "      <th>2278</th>\n",
              "      <td>2020-12-12</td>\n",
              "      <td>18051.320313</td>\n",
              "      <td>18919.550781</td>\n",
              "      <td>18046.041016</td>\n",
              "      <td>18803.656250</td>\n",
              "      <td>18803.656250</td>\n",
              "      <td>21752580801</td>\n",
              "    </tr>\n",
              "    <tr>\n",
              "      <th>2279</th>\n",
              "      <td>2020-12-13</td>\n",
              "      <td>18806.765625</td>\n",
              "      <td>19381.535156</td>\n",
              "      <td>18734.332031</td>\n",
              "      <td>19142.382813</td>\n",
              "      <td>19142.382813</td>\n",
              "      <td>25450468636</td>\n",
              "    </tr>\n",
              "    <tr>\n",
              "      <th>2280</th>\n",
              "      <td>2020-12-14</td>\n",
              "      <td>19144.492188</td>\n",
              "      <td>19305.099609</td>\n",
              "      <td>19012.708984</td>\n",
              "      <td>19246.644531</td>\n",
              "      <td>19246.644531</td>\n",
              "      <td>22473997681</td>\n",
              "    </tr>\n",
              "    <tr>\n",
              "      <th>2281</th>\n",
              "      <td>2020-12-15</td>\n",
              "      <td>19246.919922</td>\n",
              "      <td>19525.007813</td>\n",
              "      <td>19079.841797</td>\n",
              "      <td>19417.076172</td>\n",
              "      <td>19417.076172</td>\n",
              "      <td>26741982541</td>\n",
              "    </tr>\n",
              "    <tr>\n",
              "      <th>2282</th>\n",
              "      <td>2020-12-16</td>\n",
              "      <td>19418.818359</td>\n",
              "      <td>21458.908203</td>\n",
              "      <td>19298.316406</td>\n",
              "      <td>21310.597656</td>\n",
              "      <td>21310.597656</td>\n",
              "      <td>44409011479</td>\n",
              "    </tr>\n",
              "    <tr>\n",
              "      <th>2283</th>\n",
              "      <td>2020-12-17</td>\n",
              "      <td>21308.351563</td>\n",
              "      <td>23642.660156</td>\n",
              "      <td>21234.675781</td>\n",
              "      <td>22805.162109</td>\n",
              "      <td>22805.162109</td>\n",
              "      <td>71378606373</td>\n",
              "    </tr>\n",
              "    <tr>\n",
              "      <th>2284</th>\n",
              "      <td>2020-12-18</td>\n",
              "      <td>22806.796875</td>\n",
              "      <td>23238.601563</td>\n",
              "      <td>22399.812500</td>\n",
              "      <td>23137.960938</td>\n",
              "      <td>23137.960938</td>\n",
              "      <td>40387896274</td>\n",
              "    </tr>\n",
              "    <tr>\n",
              "      <th>2285</th>\n",
              "      <td>2020-12-19</td>\n",
              "      <td>23132.865234</td>\n",
              "      <td>24085.855469</td>\n",
              "      <td>22826.472656</td>\n",
              "      <td>23869.832031</td>\n",
              "      <td>23869.832031</td>\n",
              "      <td>38487546579</td>\n",
              "    </tr>\n",
              "    <tr>\n",
              "      <th>2286</th>\n",
              "      <td>2020-12-20</td>\n",
              "      <td>23861.765625</td>\n",
              "      <td>24209.660156</td>\n",
              "      <td>23147.710938</td>\n",
              "      <td>23477.294922</td>\n",
              "      <td>23477.294922</td>\n",
              "      <td>37844228421</td>\n",
              "    </tr>\n",
              "    <tr>\n",
              "      <th>2287</th>\n",
              "      <td>2020-12-21</td>\n",
              "      <td>23474.455078</td>\n",
              "      <td>24059.982422</td>\n",
              "      <td>22159.367188</td>\n",
              "      <td>22803.082031</td>\n",
              "      <td>22803.082031</td>\n",
              "      <td>45852713980</td>\n",
              "    </tr>\n",
              "    <tr>\n",
              "      <th>2288</th>\n",
              "      <td>2020-12-22</td>\n",
              "      <td>22794.039063</td>\n",
              "      <td>23789.902344</td>\n",
              "      <td>22430.605469</td>\n",
              "      <td>23783.029297</td>\n",
              "      <td>23783.029297</td>\n",
              "      <td>44171632680</td>\n",
              "    </tr>\n",
              "    <tr>\n",
              "      <th>2289</th>\n",
              "      <td>2020-12-23</td>\n",
              "      <td>23781.974609</td>\n",
              "      <td>24024.490234</td>\n",
              "      <td>22802.646484</td>\n",
              "      <td>23241.345703</td>\n",
              "      <td>23241.345703</td>\n",
              "      <td>51146161904</td>\n",
              "    </tr>\n",
              "    <tr>\n",
              "      <th>2290</th>\n",
              "      <td>2020-12-24</td>\n",
              "      <td>23240.203125</td>\n",
              "      <td>23768.337891</td>\n",
              "      <td>22777.597656</td>\n",
              "      <td>23735.949219</td>\n",
              "      <td>23735.949219</td>\n",
              "      <td>41080759712</td>\n",
              "    </tr>\n",
              "    <tr>\n",
              "      <th>2291</th>\n",
              "      <td>2020-12-25</td>\n",
              "      <td>23733.570313</td>\n",
              "      <td>24710.101563</td>\n",
              "      <td>23463.673828</td>\n",
              "      <td>24664.791016</td>\n",
              "      <td>24664.791016</td>\n",
              "      <td>42068395845</td>\n",
              "    </tr>\n",
              "    <tr>\n",
              "      <th>2292</th>\n",
              "      <td>2020-12-26</td>\n",
              "      <td>24677.015625</td>\n",
              "      <td>26718.070313</td>\n",
              "      <td>24522.689453</td>\n",
              "      <td>26437.037109</td>\n",
              "      <td>26437.037109</td>\n",
              "      <td>48332647295</td>\n",
              "    </tr>\n",
              "    <tr>\n",
              "      <th>2293</th>\n",
              "      <td>2020-12-27</td>\n",
              "      <td>26439.373047</td>\n",
              "      <td>28288.839844</td>\n",
              "      <td>25922.769531</td>\n",
              "      <td>26272.294922</td>\n",
              "      <td>26272.294922</td>\n",
              "      <td>66479895605</td>\n",
              "    </tr>\n",
              "    <tr>\n",
              "      <th>2294</th>\n",
              "      <td>2020-12-28</td>\n",
              "      <td>26280.822266</td>\n",
              "      <td>27389.111328</td>\n",
              "      <td>26207.640625</td>\n",
              "      <td>27084.808594</td>\n",
              "      <td>27084.808594</td>\n",
              "      <td>49056742892</td>\n",
              "    </tr>\n",
              "    <tr>\n",
              "      <th>2295</th>\n",
              "      <td>2020-12-29</td>\n",
              "      <td>27081.810547</td>\n",
              "      <td>27370.720703</td>\n",
              "      <td>25987.298828</td>\n",
              "      <td>27362.437500</td>\n",
              "      <td>27362.437500</td>\n",
              "      <td>45265946774</td>\n",
              "    </tr>\n",
              "    <tr>\n",
              "      <th>2296</th>\n",
              "      <td>2020-12-30</td>\n",
              "      <td>27360.089844</td>\n",
              "      <td>28937.740234</td>\n",
              "      <td>27360.089844</td>\n",
              "      <td>28840.953125</td>\n",
              "      <td>28840.953125</td>\n",
              "      <td>51287442703</td>\n",
              "    </tr>\n",
              "    <tr>\n",
              "      <th>2297</th>\n",
              "      <td>2020-12-31</td>\n",
              "      <td>28841.574219</td>\n",
              "      <td>29244.876953</td>\n",
              "      <td>28201.992188</td>\n",
              "      <td>29001.720703</td>\n",
              "      <td>29001.720703</td>\n",
              "      <td>46754964848</td>\n",
              "    </tr>\n",
              "    <tr>\n",
              "      <th>2298</th>\n",
              "      <td>2021-01-01</td>\n",
              "      <td>28994.009766</td>\n",
              "      <td>29600.626953</td>\n",
              "      <td>28803.585938</td>\n",
              "      <td>29374.152344</td>\n",
              "      <td>29374.152344</td>\n",
              "      <td>40730301358</td>\n",
              "    </tr>\n",
              "    <tr>\n",
              "      <th>2299</th>\n",
              "      <td>2021-01-02</td>\n",
              "      <td>29376.455078</td>\n",
              "      <td>33155.117188</td>\n",
              "      <td>29091.181641</td>\n",
              "      <td>32127.267578</td>\n",
              "      <td>32127.267578</td>\n",
              "      <td>67865420765</td>\n",
              "    </tr>\n",
              "    <tr>\n",
              "      <th>2300</th>\n",
              "      <td>2021-01-03</td>\n",
              "      <td>32129.408203</td>\n",
              "      <td>34608.558594</td>\n",
              "      <td>32052.316406</td>\n",
              "      <td>32782.023438</td>\n",
              "      <td>32782.023438</td>\n",
              "      <td>78665235201</td>\n",
              "    </tr>\n",
              "    <tr>\n",
              "      <th>2301</th>\n",
              "      <td>2021-01-04</td>\n",
              "      <td>32810.949219</td>\n",
              "      <td>33440.218750</td>\n",
              "      <td>28722.755859</td>\n",
              "      <td>31971.914063</td>\n",
              "      <td>31971.914063</td>\n",
              "      <td>81163475344</td>\n",
              "    </tr>\n",
              "    <tr>\n",
              "      <th>2302</th>\n",
              "      <td>2021-01-05</td>\n",
              "      <td>31977.041016</td>\n",
              "      <td>34437.589844</td>\n",
              "      <td>30221.187500</td>\n",
              "      <td>33992.429688</td>\n",
              "      <td>33992.429688</td>\n",
              "      <td>67547324781</td>\n",
              "    </tr>\n",
              "    <tr>\n",
              "      <th>2303</th>\n",
              "      <td>2021-01-06</td>\n",
              "      <td>34013.613281</td>\n",
              "      <td>36879.699219</td>\n",
              "      <td>33514.035156</td>\n",
              "      <td>36824.363281</td>\n",
              "      <td>36824.363281</td>\n",
              "      <td>75289433810</td>\n",
              "    </tr>\n",
              "    <tr>\n",
              "      <th>2304</th>\n",
              "      <td>2021-01-07</td>\n",
              "      <td>36833.875000</td>\n",
              "      <td>40180.367188</td>\n",
              "      <td>36491.191406</td>\n",
              "      <td>39371.042969</td>\n",
              "      <td>39371.042969</td>\n",
              "      <td>84762141031</td>\n",
              "    </tr>\n",
              "    <tr>\n",
              "      <th>2305</th>\n",
              "      <td>2021-01-08</td>\n",
              "      <td>39381.765625</td>\n",
              "      <td>41946.738281</td>\n",
              "      <td>36838.636719</td>\n",
              "      <td>40797.609375</td>\n",
              "      <td>40797.609375</td>\n",
              "      <td>88107519479</td>\n",
              "    </tr>\n",
              "    <tr>\n",
              "      <th>2306</th>\n",
              "      <td>2021-01-09</td>\n",
              "      <td>40788.640625</td>\n",
              "      <td>41436.351563</td>\n",
              "      <td>38980.875000</td>\n",
              "      <td>40254.546875</td>\n",
              "      <td>40254.546875</td>\n",
              "      <td>61984162837</td>\n",
              "    </tr>\n",
              "    <tr>\n",
              "      <th>2307</th>\n",
              "      <td>2021-01-10</td>\n",
              "      <td>41259.246094</td>\n",
              "      <td>41420.191406</td>\n",
              "      <td>39091.832031</td>\n",
              "      <td>39984.820313</td>\n",
              "      <td>39984.820313</td>\n",
              "      <td>65850982400</td>\n",
              "    </tr>\n",
              "  </tbody>\n",
              "</table>\n",
              "</div>"
            ],
            "text/plain": [
              "            Date          Open  ...     Adj Close       Volume\n",
              "2268  2020-12-02  18801.744141  ...  19201.091797  37387697138\n",
              "2269  2020-12-03  19205.925781  ...  19445.398438  31930317405\n",
              "2270  2020-12-04  19446.966797  ...  18699.765625  33872388057\n",
              "2271  2020-12-05  18698.384766  ...  19154.230469  27242455063\n",
              "2272  2020-12-06  19154.179688  ...  19345.121094  25293775713\n",
              "2273  2020-12-07  19343.128906  ...  19191.630859  26896357742\n",
              "2274  2020-12-08  19191.529297  ...  18321.144531  31692288756\n",
              "2275  2020-12-09  18320.884766  ...  18553.916016  34420373070\n",
              "2276  2020-12-10  18553.298828  ...  18264.992188  25547132265\n",
              "2277  2020-12-11  18263.929688  ...  18058.904297  27919640985\n",
              "2278  2020-12-12  18051.320313  ...  18803.656250  21752580801\n",
              "2279  2020-12-13  18806.765625  ...  19142.382813  25450468636\n",
              "2280  2020-12-14  19144.492188  ...  19246.644531  22473997681\n",
              "2281  2020-12-15  19246.919922  ...  19417.076172  26741982541\n",
              "2282  2020-12-16  19418.818359  ...  21310.597656  44409011479\n",
              "2283  2020-12-17  21308.351563  ...  22805.162109  71378606373\n",
              "2284  2020-12-18  22806.796875  ...  23137.960938  40387896274\n",
              "2285  2020-12-19  23132.865234  ...  23869.832031  38487546579\n",
              "2286  2020-12-20  23861.765625  ...  23477.294922  37844228421\n",
              "2287  2020-12-21  23474.455078  ...  22803.082031  45852713980\n",
              "2288  2020-12-22  22794.039063  ...  23783.029297  44171632680\n",
              "2289  2020-12-23  23781.974609  ...  23241.345703  51146161904\n",
              "2290  2020-12-24  23240.203125  ...  23735.949219  41080759712\n",
              "2291  2020-12-25  23733.570313  ...  24664.791016  42068395845\n",
              "2292  2020-12-26  24677.015625  ...  26437.037109  48332647295\n",
              "2293  2020-12-27  26439.373047  ...  26272.294922  66479895605\n",
              "2294  2020-12-28  26280.822266  ...  27084.808594  49056742892\n",
              "2295  2020-12-29  27081.810547  ...  27362.437500  45265946774\n",
              "2296  2020-12-30  27360.089844  ...  28840.953125  51287442703\n",
              "2297  2020-12-31  28841.574219  ...  29001.720703  46754964848\n",
              "2298  2021-01-01  28994.009766  ...  29374.152344  40730301358\n",
              "2299  2021-01-02  29376.455078  ...  32127.267578  67865420765\n",
              "2300  2021-01-03  32129.408203  ...  32782.023438  78665235201\n",
              "2301  2021-01-04  32810.949219  ...  31971.914063  81163475344\n",
              "2302  2021-01-05  31977.041016  ...  33992.429688  67547324781\n",
              "2303  2021-01-06  34013.613281  ...  36824.363281  75289433810\n",
              "2304  2021-01-07  36833.875000  ...  39371.042969  84762141031\n",
              "2305  2021-01-08  39381.765625  ...  40797.609375  88107519479\n",
              "2306  2021-01-09  40788.640625  ...  40254.546875  61984162837\n",
              "2307  2021-01-10  41259.246094  ...  39984.820313  65850982400\n",
              "\n",
              "[40 rows x 7 columns]"
            ]
          },
          "metadata": {
            "tags": []
          },
          "execution_count": 64
        }
      ]
    },
    {
      "cell_type": "code",
      "metadata": {
        "colab": {
          "base_uri": "https://localhost:8080/",
          "height": 204
        },
        "id": "iDBEuB-bQBEi",
        "outputId": "30566933-9593-49b3-c26b-92e5b1f83936"
      },
      "source": [
        "training_data = data_training.drop(['Date', 'Adj Close'], axis = 1)\n",
        "training_data.head()"
      ],
      "execution_count": null,
      "outputs": [
        {
          "output_type": "execute_result",
          "data": {
            "text/html": [
              "<div>\n",
              "<style scoped>\n",
              "    .dataframe tbody tr th:only-of-type {\n",
              "        vertical-align: middle;\n",
              "    }\n",
              "\n",
              "    .dataframe tbody tr th {\n",
              "        vertical-align: top;\n",
              "    }\n",
              "\n",
              "    .dataframe thead th {\n",
              "        text-align: right;\n",
              "    }\n",
              "</style>\n",
              "<table border=\"1\" class=\"dataframe\">\n",
              "  <thead>\n",
              "    <tr style=\"text-align: right;\">\n",
              "      <th></th>\n",
              "      <th>Open</th>\n",
              "      <th>High</th>\n",
              "      <th>Low</th>\n",
              "      <th>Close</th>\n",
              "      <th>Volume</th>\n",
              "    </tr>\n",
              "  </thead>\n",
              "  <tbody>\n",
              "    <tr>\n",
              "      <th>0</th>\n",
              "      <td>465.864014</td>\n",
              "      <td>468.174011</td>\n",
              "      <td>452.421997</td>\n",
              "      <td>457.334015</td>\n",
              "      <td>21056800</td>\n",
              "    </tr>\n",
              "    <tr>\n",
              "      <th>1</th>\n",
              "      <td>456.859985</td>\n",
              "      <td>456.859985</td>\n",
              "      <td>413.104004</td>\n",
              "      <td>424.440002</td>\n",
              "      <td>34483200</td>\n",
              "    </tr>\n",
              "    <tr>\n",
              "      <th>2</th>\n",
              "      <td>424.102997</td>\n",
              "      <td>427.834991</td>\n",
              "      <td>384.532013</td>\n",
              "      <td>394.795990</td>\n",
              "      <td>37919700</td>\n",
              "    </tr>\n",
              "    <tr>\n",
              "      <th>3</th>\n",
              "      <td>394.673004</td>\n",
              "      <td>423.295990</td>\n",
              "      <td>389.882996</td>\n",
              "      <td>408.903992</td>\n",
              "      <td>36863600</td>\n",
              "    </tr>\n",
              "    <tr>\n",
              "      <th>4</th>\n",
              "      <td>408.084991</td>\n",
              "      <td>412.425995</td>\n",
              "      <td>393.181000</td>\n",
              "      <td>398.821014</td>\n",
              "      <td>26580100</td>\n",
              "    </tr>\n",
              "  </tbody>\n",
              "</table>\n",
              "</div>"
            ],
            "text/plain": [
              "         Open        High         Low       Close    Volume\n",
              "0  465.864014  468.174011  452.421997  457.334015  21056800\n",
              "1  456.859985  456.859985  413.104004  424.440002  34483200\n",
              "2  424.102997  427.834991  384.532013  394.795990  37919700\n",
              "3  394.673004  423.295990  389.882996  408.903992  36863600\n",
              "4  408.084991  412.425995  393.181000  398.821014  26580100"
            ]
          },
          "metadata": {
            "tags": []
          },
          "execution_count": 65
        }
      ]
    },
    {
      "cell_type": "code",
      "metadata": {
        "colab": {
          "base_uri": "https://localhost:8080/"
        },
        "id": "ZA5VXp1ZQBEj",
        "outputId": "28d26de8-ac8e-42cc-98a5-05120f3836a6"
      },
      "source": [
        "scaler = MinMaxScaler()\n",
        "training_data = scaler.fit_transform(training_data)\n",
        "training_data"
      ],
      "execution_count": null,
      "outputs": [
        {
          "output_type": "execute_result",
          "data": {
            "text/plain": [
              "array([[1.49732345e-02, 1.29013200e-02, 1.49400698e-02, 1.43580241e-02,\n",
              "        2.04208427e-04],\n",
              "       [1.45066780e-02, 1.23321258e-02, 1.28489753e-02, 1.26666180e-02,\n",
              "        3.85277136e-04],\n",
              "       [1.28093283e-02, 1.08719155e-02, 1.13293978e-02, 1.11423266e-02,\n",
              "        4.31621846e-04],\n",
              "       ...,\n",
              "       [8.77564694e-01, 8.87556960e-01, 8.90257283e-01, 9.01869185e-01,\n",
              "        4.39578546e-01],\n",
              "       [9.09001774e-01, 9.09174088e-01, 9.24745344e-01, 9.25525943e-01,\n",
              "        4.19793434e-01],\n",
              "       [9.32769315e-01, 9.82908300e-01, 9.57677248e-01, 1.00000000e+00,\n",
              "        6.43587511e-01]])"
            ]
          },
          "metadata": {
            "tags": []
          },
          "execution_count": 66
        }
      ]
    },
    {
      "cell_type": "code",
      "metadata": {
        "id": "2q5JNSH3QBEk"
      },
      "source": [
        "X_train = []\n",
        "Y_train = []"
      ],
      "execution_count": null,
      "outputs": []
    },
    {
      "cell_type": "code",
      "metadata": {
        "colab": {
          "base_uri": "https://localhost:8080/"
        },
        "id": "AjvPuQHvQBEk",
        "outputId": "870c65a6-3945-4aa8-e19e-b98e02a1d4fa"
      },
      "source": [
        "training_data.shape[0]"
      ],
      "execution_count": null,
      "outputs": [
        {
          "output_type": "execute_result",
          "data": {
            "text/plain": [
              "2267"
            ]
          },
          "metadata": {
            "tags": []
          },
          "execution_count": 68
        }
      ]
    },
    {
      "cell_type": "code",
      "metadata": {
        "id": "Ayy8SRBHQBEn"
      },
      "source": [
        "for i in range(60, training_data.shape[0]):\n",
        "    X_train.append(training_data[i-60:i])\n",
        "    Y_train.append(training_data[i,0])"
      ],
      "execution_count": null,
      "outputs": []
    },
    {
      "cell_type": "code",
      "metadata": {
        "id": "wPqjPr2VQBEo"
      },
      "source": [
        "X_train, Y_train = np.array(X_train), np.array(Y_train)"
      ],
      "execution_count": null,
      "outputs": []
    },
    {
      "cell_type": "code",
      "metadata": {
        "colab": {
          "base_uri": "https://localhost:8080/"
        },
        "id": "SlguCb41QBEo",
        "outputId": "247670fe-d188-4a51-c89d-6f04b45dec6a"
      },
      "source": [
        "X_train.shape"
      ],
      "execution_count": null,
      "outputs": [
        {
          "output_type": "execute_result",
          "data": {
            "text/plain": [
              "(2207, 60, 5)"
            ]
          },
          "metadata": {
            "tags": []
          },
          "execution_count": 71
        }
      ]
    },
    {
      "cell_type": "markdown",
      "metadata": {
        "id": "BXmAANvqQBEp"
      },
      "source": [
        "# Building LSTM"
      ]
    },
    {
      "cell_type": "code",
      "metadata": {
        "id": "kDsqyAnDQBEp"
      },
      "source": [
        "from tensorflow.keras import Sequential\n",
        "from tensorflow.keras.layers import Dense, LSTM, Dropout"
      ],
      "execution_count": null,
      "outputs": []
    },
    {
      "cell_type": "code",
      "metadata": {
        "id": "XXsEIiHYQBEq"
      },
      "source": [
        "regressor = Sequential()\n",
        "regressor.add(LSTM(units = 50, activation = 'relu', return_sequences = True, input_shape = (X_train.shape[1], 5)))\n",
        "regressor.add(Dropout(0.2))"
      ],
      "execution_count": null,
      "outputs": []
    },
    {
      "cell_type": "code",
      "metadata": {
        "id": "h2ZYgbvPQBEq"
      },
      "source": [
        "regressor.add(LSTM(units = 60, activation = 'relu', return_sequences = True))\n",
        "regressor.add(Dropout(0.3))\n",
        "\n",
        "regressor.add(LSTM(units = 80, activation = 'relu', return_sequences = True))\n",
        "regressor.add(Dropout(0.4))\n",
        "\n",
        "regressor.add(LSTM(units = 120, activation = 'relu'))\n",
        "regressor.add(Dropout(0.5))\n",
        "\n",
        "regressor.add(Dense(units =1))"
      ],
      "execution_count": null,
      "outputs": []
    },
    {
      "cell_type": "code",
      "metadata": {
        "colab": {
          "base_uri": "https://localhost:8080/"
        },
        "id": "OvWFP1UEQBEr",
        "outputId": "84846bb5-9f49-4489-cd5e-44f2b7ec4741"
      },
      "source": [
        "regressor.summary()"
      ],
      "execution_count": null,
      "outputs": [
        {
          "output_type": "stream",
          "text": [
            "Model: \"sequential_2\"\n",
            "_________________________________________________________________\n",
            "Layer (type)                 Output Shape              Param #   \n",
            "=================================================================\n",
            "lstm_8 (LSTM)                (None, 60, 50)            11200     \n",
            "_________________________________________________________________\n",
            "dropout_8 (Dropout)          (None, 60, 50)            0         \n",
            "_________________________________________________________________\n",
            "lstm_9 (LSTM)                (None, 60, 60)            26640     \n",
            "_________________________________________________________________\n",
            "dropout_9 (Dropout)          (None, 60, 60)            0         \n",
            "_________________________________________________________________\n",
            "lstm_10 (LSTM)               (None, 60, 80)            45120     \n",
            "_________________________________________________________________\n",
            "dropout_10 (Dropout)         (None, 60, 80)            0         \n",
            "_________________________________________________________________\n",
            "lstm_11 (LSTM)               (None, 120)               96480     \n",
            "_________________________________________________________________\n",
            "dropout_11 (Dropout)         (None, 120)               0         \n",
            "_________________________________________________________________\n",
            "dense_2 (Dense)              (None, 1)                 121       \n",
            "=================================================================\n",
            "Total params: 179,561\n",
            "Trainable params: 179,561\n",
            "Non-trainable params: 0\n",
            "_________________________________________________________________\n"
          ],
          "name": "stdout"
        }
      ]
    },
    {
      "cell_type": "code",
      "metadata": {
        "id": "ZuSVfcAqQBEr"
      },
      "source": [
        "regressor.compile(optimizer = 'adam', loss = 'mean_squared_error')"
      ],
      "execution_count": null,
      "outputs": []
    },
    {
      "cell_type": "code",
      "metadata": {
        "colab": {
          "base_uri": "https://localhost:8080/"
        },
        "id": "jn068o-nQBEs",
        "outputId": "8c1757e3-a80a-4828-92f7-4baf3faf903d"
      },
      "source": [
        "regressor.fit(X_train, Y_train, epochs = 50, batch_size =50)"
      ],
      "execution_count": null,
      "outputs": [
        {
          "output_type": "stream",
          "text": [
            "Epoch 1/50\n",
            "45/45 [==============================] - 7s 161ms/step - loss: 0.0026\n",
            "Epoch 2/50\n",
            "45/45 [==============================] - 7s 159ms/step - loss: 0.0025\n",
            "Epoch 3/50\n",
            "45/45 [==============================] - 7s 155ms/step - loss: 0.0022\n",
            "Epoch 4/50\n",
            "45/45 [==============================] - 7s 154ms/step - loss: 0.0024\n",
            "Epoch 5/50\n",
            "45/45 [==============================] - 7s 151ms/step - loss: 0.0024\n",
            "Epoch 6/50\n",
            "45/45 [==============================] - 7s 164ms/step - loss: 0.0024\n",
            "Epoch 7/50\n",
            "45/45 [==============================] - 7s 156ms/step - loss: 0.0024\n",
            "Epoch 8/50\n",
            "45/45 [==============================] - 7s 155ms/step - loss: 0.0023\n",
            "Epoch 9/50\n",
            "45/45 [==============================] - 7s 153ms/step - loss: 0.0025\n",
            "Epoch 10/50\n",
            "45/45 [==============================] - 7s 161ms/step - loss: 0.0024\n",
            "Epoch 11/50\n",
            "45/45 [==============================] - 7s 152ms/step - loss: 0.0024\n",
            "Epoch 12/50\n",
            "45/45 [==============================] - 7s 161ms/step - loss: 0.0024\n",
            "Epoch 13/50\n",
            "45/45 [==============================] - 7s 161ms/step - loss: 0.0022\n",
            "Epoch 14/50\n",
            "45/45 [==============================] - 7s 150ms/step - loss: 0.0022\n",
            "Epoch 15/50\n",
            "45/45 [==============================] - 7s 151ms/step - loss: 0.0023\n",
            "Epoch 16/50\n",
            "45/45 [==============================] - 7s 151ms/step - loss: 0.0023\n",
            "Epoch 17/50\n",
            "45/45 [==============================] - 7s 158ms/step - loss: 0.0022\n",
            "Epoch 18/50\n",
            "45/45 [==============================] - 7s 160ms/step - loss: 0.0021\n",
            "Epoch 19/50\n",
            "45/45 [==============================] - 7s 166ms/step - loss: 0.0024\n",
            "Epoch 20/50\n",
            "45/45 [==============================] - 7s 151ms/step - loss: 0.0021\n",
            "Epoch 21/50\n",
            "45/45 [==============================] - 7s 152ms/step - loss: 0.0020\n",
            "Epoch 22/50\n",
            "45/45 [==============================] - 7s 164ms/step - loss: 0.0019\n",
            "Epoch 23/50\n",
            "45/45 [==============================] - 7s 152ms/step - loss: 0.0019\n",
            "Epoch 24/50\n",
            "45/45 [==============================] - 7s 157ms/step - loss: 0.0022\n",
            "Epoch 25/50\n",
            "45/45 [==============================] - 7s 156ms/step - loss: 0.0020\n",
            "Epoch 26/50\n",
            "45/45 [==============================] - 7s 154ms/step - loss: 0.0024\n",
            "Epoch 27/50\n",
            "45/45 [==============================] - 7s 153ms/step - loss: 0.0022\n",
            "Epoch 28/50\n",
            "45/45 [==============================] - 7s 158ms/step - loss: 0.0022\n",
            "Epoch 29/50\n",
            "45/45 [==============================] - 7s 160ms/step - loss: 0.0020\n",
            "Epoch 30/50\n",
            "45/45 [==============================] - 7s 154ms/step - loss: 0.0021\n",
            "Epoch 31/50\n",
            "45/45 [==============================] - 7s 166ms/step - loss: 0.0018\n",
            "Epoch 32/50\n",
            "45/45 [==============================] - 7s 158ms/step - loss: 0.0022\n",
            "Epoch 33/50\n",
            "45/45 [==============================] - 7s 156ms/step - loss: 0.0020\n",
            "Epoch 34/50\n",
            "45/45 [==============================] - 8s 170ms/step - loss: 0.0021\n",
            "Epoch 35/50\n",
            "45/45 [==============================] - 7s 151ms/step - loss: 0.0017\n",
            "Epoch 36/50\n",
            "45/45 [==============================] - 7s 151ms/step - loss: 0.0018\n",
            "Epoch 37/50\n",
            "45/45 [==============================] - 7s 157ms/step - loss: 0.0017\n",
            "Epoch 38/50\n",
            "45/45 [==============================] - 7s 154ms/step - loss: 0.0019\n",
            "Epoch 39/50\n",
            "45/45 [==============================] - 7s 155ms/step - loss: 0.0020\n",
            "Epoch 40/50\n",
            "45/45 [==============================] - 7s 152ms/step - loss: 0.0017\n",
            "Epoch 41/50\n",
            "45/45 [==============================] - 7s 152ms/step - loss: 0.0019\n",
            "Epoch 42/50\n",
            "45/45 [==============================] - 7s 150ms/step - loss: 0.0017\n",
            "Epoch 43/50\n",
            "45/45 [==============================] - 7s 155ms/step - loss: 0.0016\n",
            "Epoch 44/50\n",
            "45/45 [==============================] - 7s 155ms/step - loss: 0.0017\n",
            "Epoch 45/50\n",
            "45/45 [==============================] - 7s 149ms/step - loss: 0.0017\n",
            "Epoch 46/50\n",
            "45/45 [==============================] - 7s 151ms/step - loss: 0.0017\n",
            "Epoch 47/50\n",
            "45/45 [==============================] - 7s 158ms/step - loss: 0.0018\n",
            "Epoch 48/50\n",
            "45/45 [==============================] - 7s 160ms/step - loss: 0.0019\n",
            "Epoch 49/50\n",
            "45/45 [==============================] - 7s 152ms/step - loss: 0.0017\n",
            "Epoch 50/50\n",
            "45/45 [==============================] - 7s 158ms/step - loss: 0.0016\n"
          ],
          "name": "stdout"
        },
        {
          "output_type": "execute_result",
          "data": {
            "text/plain": [
              "<tensorflow.python.keras.callbacks.History at 0x7eff21fa4240>"
            ]
          },
          "metadata": {
            "tags": []
          },
          "execution_count": 89
        }
      ]
    },
    {
      "cell_type": "markdown",
      "metadata": {
        "id": "vgvaT2zCQBEs"
      },
      "source": [
        " # Test Dataset"
      ]
    },
    {
      "cell_type": "code",
      "metadata": {
        "colab": {
          "base_uri": "https://localhost:8080/",
          "height": 215
        },
        "id": "v1tI4heMQBEs",
        "outputId": "243637fa-ec78-4695-ec5f-c83aee1c1816"
      },
      "source": [
        "past_60_days = data_training.tail(60)\n",
        "df= past_60_days.append(data_test, ignore_index = True)\n",
        "df = df.drop(['Date', 'Adj Close','Open','Close'], axis = 1)\n",
        "df.head()"
      ],
      "execution_count": null,
      "outputs": [
        {
          "output_type": "error",
          "ename": "NameError",
          "evalue": "ignored",
          "traceback": [
            "\u001b[0;31m---------------------------------------------------------------------------\u001b[0m",
            "\u001b[0;31mNameError\u001b[0m                                 Traceback (most recent call last)",
            "\u001b[0;32m<ipython-input-1-f841ad88f938>\u001b[0m in \u001b[0;36m<module>\u001b[0;34m()\u001b[0m\n\u001b[0;32m----> 1\u001b[0;31m \u001b[0mpast_60_days\u001b[0m \u001b[0;34m=\u001b[0m \u001b[0mdata_training\u001b[0m\u001b[0;34m.\u001b[0m\u001b[0mtail\u001b[0m\u001b[0;34m(\u001b[0m\u001b[0;36m60\u001b[0m\u001b[0;34m)\u001b[0m\u001b[0;34m\u001b[0m\u001b[0;34m\u001b[0m\u001b[0m\n\u001b[0m\u001b[1;32m      2\u001b[0m \u001b[0mdf\u001b[0m\u001b[0;34m=\u001b[0m \u001b[0mpast_60_days\u001b[0m\u001b[0;34m.\u001b[0m\u001b[0mappend\u001b[0m\u001b[0;34m(\u001b[0m\u001b[0mdata_test\u001b[0m\u001b[0;34m,\u001b[0m \u001b[0mignore_index\u001b[0m \u001b[0;34m=\u001b[0m \u001b[0;32mTrue\u001b[0m\u001b[0;34m)\u001b[0m\u001b[0;34m\u001b[0m\u001b[0;34m\u001b[0m\u001b[0m\n\u001b[1;32m      3\u001b[0m \u001b[0mdf\u001b[0m \u001b[0;34m=\u001b[0m \u001b[0mdf\u001b[0m\u001b[0;34m.\u001b[0m\u001b[0mdrop\u001b[0m\u001b[0;34m(\u001b[0m\u001b[0;34m[\u001b[0m\u001b[0;34m'Date'\u001b[0m\u001b[0;34m,\u001b[0m \u001b[0;34m'Adj Close'\u001b[0m\u001b[0;34m,\u001b[0m\u001b[0;34m'Open'\u001b[0m\u001b[0;34m,\u001b[0m\u001b[0;34m'Close'\u001b[0m\u001b[0;34m]\u001b[0m\u001b[0;34m,\u001b[0m \u001b[0maxis\u001b[0m \u001b[0;34m=\u001b[0m \u001b[0;36m1\u001b[0m\u001b[0;34m)\u001b[0m\u001b[0;34m\u001b[0m\u001b[0;34m\u001b[0m\u001b[0m\n\u001b[1;32m      4\u001b[0m \u001b[0mdf\u001b[0m\u001b[0;34m.\u001b[0m\u001b[0mhead\u001b[0m\u001b[0;34m(\u001b[0m\u001b[0;34m)\u001b[0m\u001b[0;34m\u001b[0m\u001b[0;34m\u001b[0m\u001b[0m\n",
            "\u001b[0;31mNameError\u001b[0m: name 'data_training' is not defined"
          ]
        }
      ]
    },
    {
      "cell_type": "code",
      "metadata": {
        "colab": {
          "base_uri": "https://localhost:8080/"
        },
        "id": "lIQGNX-PQBEt",
        "outputId": "71db340c-24f1-4500-be94-1a26e0b1813c"
      },
      "source": [
        "inputs = scaler.transform(df)\n",
        "inputs"
      ],
      "execution_count": null,
      "outputs": [
        {
          "output_type": "execute_result",
          "data": {
            "text/plain": [
              "array([[0.54135166, 0.5257806 , 0.54613762, 0.53512978, 0.31182276],\n",
              "       [0.53924874, 0.52332948, 0.55080011, 0.53411831, 0.23045041],\n",
              "       [0.53842555, 0.5276912 , 0.55097904, 0.54023396, 0.23655665],\n",
              "       [0.54464944, 0.53288357, 0.55710057, 0.54638235, 0.26134933],\n",
              "       [0.55043962, 0.53285615, 0.55277956, 0.53700661, 0.30018593],\n",
              "       [0.54111398, 0.52701091, 0.55420312, 0.53996184, 0.23773796],\n",
              "       [0.54411008, 0.53971543, 0.55302559, 0.55253355, 0.29610185],\n",
              "       [0.55695119, 0.54806918, 0.5686166 , 0.56054672, 0.30461225],\n",
              "       [0.56387895, 0.56499109, 0.57893251, 0.57169946, 0.30845313],\n",
              "       [0.5761563 , 0.56431708, 0.59125462, 0.57621516, 0.26921755],\n",
              "       [0.58115937, 0.57788305, 0.58870489, 0.5850173 , 0.35276811],\n",
              "       [0.58924708, 0.57036273, 0.59298824, 0.57836029, 0.32684053],\n",
              "       [0.58304611, 0.56990961, 0.59227592, 0.57854578, 0.32497955],\n",
              "       [0.58291941, 0.57141567, 0.59205108, 0.58193141, 0.33015557],\n",
              "       [0.58686914, 0.56991383, 0.58776493, 0.57302412, 0.34564086],\n",
              "       [0.57750565, 0.56217636, 0.59108006, 0.57487413, 0.25791361],\n",
              "       [0.57926013, 0.56706122, 0.59438983, 0.58131487, 0.24648939],\n",
              "       [0.58646549, 0.58294536, 0.59761875, 0.59461605, 0.32170707],\n",
              "       [0.59946812, 0.59304862, 0.61214815, 0.60357842, 0.41685165],\n",
              "       [0.60812678, 0.65264677, 0.62381932, 0.65023448, 0.58541195],\n",
              "       [0.6541687 , 0.65149104, 0.66722638, 0.65754649, 0.46828649],\n",
              "       [0.66297298, 0.64416449, 0.66911727, 0.65578009, 0.39067735],\n",
              "       [0.66090164, 0.65065958, 0.67619606, 0.6648569 , 0.33089844],\n",
              "       [0.67004668, 0.65992228, 0.67748921, 0.6609033 , 0.32907247],\n",
              "       [0.66606395, 0.65469592, 0.67282609, 0.66316959, 0.39723807],\n",
              "       [0.668346  , 0.68157944, 0.68550812, 0.69294019, 0.45507179],\n",
              "       [0.69834629, 0.68550485, 0.67866933, 0.67324979, 0.48362764],\n",
              "       [0.67850495, 0.67415282, 0.68121199, 0.68181622, 0.76187366],\n",
              "       [0.68713628, 0.67613844, 0.6895161 , 0.68740246, 0.41234278],\n",
              "       [0.69276656, 0.6950896 , 0.70660587, 0.69945901, 0.40863385],\n",
              "       [0.70491559, 0.68672926, 0.71569226, 0.69720242, 0.32970547],\n",
              "       [0.70263759, 0.68402718, 0.69520478, 0.68760643, 0.41490472],\n",
              "       [0.69296963, 0.69291463, 0.69958084, 0.70816469, 0.40274702],\n",
              "       [0.71369812, 0.70467606, 0.71314441, 0.71759542, 0.47350026],\n",
              "       [0.72319322, 0.77951721, 0.74088618, 0.79195584, 0.55090943],\n",
              "       [0.79811955, 0.7894297 , 0.80070512, 0.79123762, 0.5371742 ],\n",
              "       [0.79740197, 0.78106126, 0.75796438, 0.75359174, 0.47226749],\n",
              "       [0.75946577, 0.77604168, 0.77503156, 0.78679939, 0.35908095],\n",
              "       [0.79293098, 0.78347814, 0.78148912, 0.77922771, 0.46045592],\n",
              "       [0.78530127, 0.7666344 , 0.79528673, 0.77709826, 0.34482438],\n",
              "       [0.78315392, 0.79007482, 0.80406461, 0.7982029 , 0.4014311 ],\n",
              "       [0.80441884, 0.80963199, 0.81708221, 0.82776953, 0.46081522],\n",
              "       [0.83422062, 0.81758952, 0.84140763, 0.82990165, 0.42607164],\n",
              "       [0.83636417, 0.81027618, 0.82848606, 0.81706365, 0.37053915],\n",
              "       [0.82342722, 0.80048116, 0.83084429, 0.8112763 , 0.31891678],\n",
              "       [0.81759463, 0.83534869, 0.83548045, 0.85038232, 0.42509086],\n",
              "       [0.85542654, 0.88398406, 0.87184985, 0.89816655, 0.52596741],\n",
              "       [0.90514439, 0.91472416, 0.91377819, 0.90632172, 0.66160915],\n",
              "       [0.91336609, 0.90091933, 0.91535501, 0.9069945 , 0.49870146],\n",
              "       [0.91405124, 0.93380512, 0.93573733, 0.94834763, 0.4988069 ],\n",
              "       [0.95572368, 0.94202529, 0.97182621, 0.94942323, 0.5346438 ],\n",
              "       [0.95680748, 0.92956622, 0.9307162 , 0.93542517, 0.55662903],\n",
              "       [0.94270228, 0.930696  , 0.94823571, 0.93512278, 0.57632776],\n",
              "       [0.9424431 , 0.9627349 , 0.9550358 , 0.97334542, 0.69403986],\n",
              "       [0.98075587, 0.96488274, 0.97910112, 0.95404529, 0.58939902],\n",
              "       [0.96134698, 0.93848678, 0.86049451, 0.87272486, 0.82791923],\n",
              "       [0.87968816, 0.86698492, 0.86982241, 0.87055388, 0.52434431],\n",
              "       [0.87756469, 0.88755696, 0.89025728, 0.90186919, 0.43957855],\n",
              "       [0.90900177, 0.90917409, 0.92474534, 0.92552594, 0.41979343],\n",
              "       [0.93276932, 0.9829083 , 0.95767725, 1.        , 0.64358751],\n",
              "       [0.9650728 , 0.96072549, 0.96668646, 0.97815971, 0.50413149],\n",
              "       [0.98601605, 0.97369817, 0.99743044, 0.99072193, 0.43053316],\n",
              "       [0.99850593, 0.9709419 , 0.98527297, 0.95238158, 0.45672396],\n",
              "       [0.95971709, 0.9532858 , 0.97958227, 0.97575011, 0.36731255],\n",
              "       [0.98333475, 0.96485936, 0.9959471 , 0.98556568, 0.34103262],\n",
              "       [0.99312542, 0.96593235, 0.99771537, 0.97767323, 0.36264507],\n",
              "       [0.98527007, 0.95947524, 0.96255014, 0.93291293, 0.4273231 ],\n",
              "       [0.94015639, 0.92641308, 0.94476544, 0.94488201, 0.4641141 ],\n",
              "       [0.95219926, 0.92274084, 0.94590984, 0.93002558, 0.34444939],\n",
              "       [0.93720518, 0.90841061, 0.92795852, 0.91942857, 0.37644509],\n",
              "       [0.92618853, 0.9411665 , 0.95064198, 0.95772362, 0.29327599],\n",
              "       [0.965333  , 0.96440835, 0.98724816, 0.9751409 , 0.34314578],\n",
              "       [0.98283278, 0.96056297, 1.00205341, 0.98050203, 0.30300503],\n",
              "       [0.98814021, 0.97162627, 1.00562381, 0.9892656 , 0.36056317],\n",
              "       [0.99704738, 1.06891833, 1.0172432 , 1.08663024, 0.59882108],\n",
              "       [1.09495621, 1.1787801 , 1.12022685, 1.16348055, 0.9625336 ],\n",
              "       [1.17260027, 1.15845243, 1.18219367, 1.18059303, 0.54459224],\n",
              "       [1.18949597, 1.20107669, 1.20488524, 1.21822575, 0.51896409],\n",
              "       [1.22726497, 1.20730515, 1.22197003, 1.19804154, 0.51028828],\n",
              "       [1.20719593, 1.19977505, 1.16940579, 1.1633736 , 0.61829089],\n",
              "       [1.17193921, 1.18618767, 1.18383137, 1.21376236, 0.59561979],\n",
              "       [1.22313049, 1.19798948, 1.20361806, 1.18590906, 0.68967843],\n",
              "       [1.19505783, 1.18510279, 1.20228586, 1.21134151, 0.55393621],\n",
              "       [1.22062235, 1.23248171, 1.23877425, 1.25910244, 0.56725549],\n",
              "       [1.2695083 , 1.33350006, 1.29509711, 1.35023111, 0.65173532],\n",
              "       [1.36082735, 1.41252346, 1.3695592 , 1.34176009, 0.89646948],\n",
              "       [1.35261181, 1.36725927, 1.38470983, 1.38353944, 0.66150049],\n",
              "       [1.39411616, 1.36633406, 1.37299113, 1.39781509, 0.61037773],\n",
              "       [1.40853559, 1.44516881, 1.44600188, 1.47384018, 0.69158375],\n",
              "       [1.4853008 , 1.46062047, 1.49077775, 1.48210682, 0.63045866],\n",
              "       [1.49319946, 1.4785178 , 1.52277301, 1.50125721, 0.54920992],\n",
              "       [1.51301641, 1.65733966, 1.53806854, 1.64282205, 0.91515471],\n",
              "       [1.65566457, 1.73046044, 1.69555402, 1.67648952, 1.06080123],\n",
              "       [1.69097958, 1.67168275, 1.51847413, 1.6348338 , 1.09449255],\n",
              "       [1.64776945, 1.72185922, 1.59816696, 1.73872846, 0.91086486],\n",
              "       [1.75329732, 1.84471862, 1.77329431, 1.88434613, 1.0152751 ],\n",
              "       [1.89943317, 2.01077101, 1.93163187, 2.01529608, 1.14302423],\n",
              "       [2.03145573, 2.09963488, 1.95011046, 2.08864995, 1.18814007],\n",
              "       [2.10435495, 2.07395798, 2.06404361, 2.06072574, 0.83583994],\n",
              "       [2.12874003, 2.07314498, 2.06994477, 2.04685643, 0.88798795]])"
            ]
          },
          "metadata": {
            "tags": []
          },
          "execution_count": 91
        }
      ]
    },
    {
      "cell_type": "code",
      "metadata": {
        "id": "9T6ZMq4GQBEt"
      },
      "source": [
        "X_test = []\n",
        "Y_test = []\n",
        "for i in range (60, inputs.shape[0]):\n",
        "    X_test.append(inputs[i-60:i])\n",
        "    Y_test.append(inputs[i, 0])"
      ],
      "execution_count": null,
      "outputs": []
    },
    {
      "cell_type": "code",
      "metadata": {
        "colab": {
          "base_uri": "https://localhost:8080/"
        },
        "id": "Czddp-ZfQBEu",
        "outputId": "8278cd04-497f-4bb1-e1d1-faa09ef403f6"
      },
      "source": [
        "X_test, Y_test = np.array(X_test), np.array(Y_test)\n",
        "X_test.shape, Y_test.shape"
      ],
      "execution_count": null,
      "outputs": [
        {
          "output_type": "execute_result",
          "data": {
            "text/plain": [
              "((40, 60, 5), (40,))"
            ]
          },
          "metadata": {
            "tags": []
          },
          "execution_count": 93
        }
      ]
    },
    {
      "cell_type": "code",
      "metadata": {
        "id": "qIyQ9452QBEu"
      },
      "source": [
        "Y_pred = regressor.predict(X_test)\n",
        "Y_pred, Y_test"
      ],
      "execution_count": null,
      "outputs": []
    },
    {
      "cell_type": "code",
      "metadata": {
        "scrolled": true,
        "colab": {
          "base_uri": "https://localhost:8080/"
        },
        "id": "dZD1hzuhQBEv",
        "outputId": "41cd2af7-4063-4818-d7de-189ce797d6d9"
      },
      "source": [
        "scaler.scale_"
      ],
      "execution_count": null,
      "outputs": [
        {
          "output_type": "execute_result",
          "data": {
            "text/plain": [
              "array([5.18164146e-05, 5.03087220e-05, 5.31841635e-05, 5.14198752e-05,\n",
              "       1.34860207e-11])"
            ]
          },
          "metadata": {
            "tags": []
          },
          "execution_count": 83
        }
      ]
    },
    {
      "cell_type": "code",
      "metadata": {
        "colab": {
          "base_uri": "https://localhost:8080/"
        },
        "id": "lixPpYWfQBEv",
        "outputId": "d78e7ab0-595f-46e2-eb84-c2846544f929"
      },
      "source": [
        "scale = 1/5.18164146e-05\n",
        "scale"
      ],
      "execution_count": null,
      "outputs": [
        {
          "output_type": "execute_result",
          "data": {
            "text/plain": [
              "19298.903787912797"
            ]
          },
          "metadata": {
            "tags": []
          },
          "execution_count": 84
        }
      ]
    },
    {
      "cell_type": "code",
      "metadata": {
        "id": "yrwu3zsSQBEw"
      },
      "source": [
        "Y_test = Y_test*scale\n",
        "Y_pred = Y_pred*scale"
      ],
      "execution_count": null,
      "outputs": []
    },
    {
      "cell_type": "code",
      "metadata": {
        "colab": {
          "base_uri": "https://localhost:8080/"
        },
        "id": "iN_b_-OoQBEw",
        "outputId": "6d1a91d6-010e-430c-8bd3-6f0f88e94b2c"
      },
      "source": [
        "Y_pred\n"
      ],
      "execution_count": null,
      "outputs": [
        {
          "output_type": "execute_result",
          "data": {
            "text/plain": [
              "array([[15226.457],\n",
              "       [15059.811],\n",
              "       [15038.532],\n",
              "       [15139.394],\n",
              "       [15306.44 ],\n",
              "       [15501.57 ],\n",
              "       [15694.364],\n",
              "       [15839.593],\n",
              "       [15900.502],\n",
              "       [15856.114],\n",
              "       [15711.581],\n",
              "       [15511.044],\n",
              "       [15328.204],\n",
              "       [15210.703],\n",
              "       [15187.917],\n",
              "       [15331.079],\n",
              "       [15764.078],\n",
              "       [16465.104],\n",
              "       [17366.2  ],\n",
              "       [18336.988],\n",
              "       [19193.275],\n",
              "       [19807.674],\n",
              "       [20150.633],\n",
              "       [20219.387],\n",
              "       [20113.967],\n",
              "       [20010.883],\n",
              "       [20081.865],\n",
              "       [20312.844],\n",
              "       [20632.713],\n",
              "       [21055.076],\n",
              "       [21549.518],\n",
              "       [22049.066],\n",
              "       [22664.959],\n",
              "       [23511.248],\n",
              "       [24335.059],\n",
              "       [24976.463],\n",
              "       [25597.736],\n",
              "       [26476.951],\n",
              "       [27659.484],\n",
              "       [28855.957]], dtype=float32)"
            ]
          },
          "metadata": {
            "tags": []
          },
          "execution_count": 86
        }
      ]
    },
    {
      "cell_type": "code",
      "metadata": {
        "colab": {
          "base_uri": "https://localhost:8080/"
        },
        "id": "z6m8ulyFQBEx",
        "outputId": "83176fc1-afdc-4a30-8182-540de35a5de7"
      },
      "source": [
        "Y_test"
      ],
      "execution_count": null,
      "outputs": [
        {
          "output_type": "execute_result",
          "data": {
            "text/plain": [
              "array([18624.84714757, 19029.02878777, 19270.0698039 , 18521.48777251,\n",
              "       18977.28269475, 19166.23191284, 19014.63230377, 18143.98777232,\n",
              "       18376.40183444, 18087.03269429, 17874.42331918, 18629.86863157,\n",
              "       18967.59519474, 19070.0229288 , 19241.92136588, 21131.45457085,\n",
              "       22629.89988362, 22955.96824279, 23684.86863417, 23297.55808697,\n",
              "       22617.14207162, 23605.07761812, 23063.30613385, 23556.6733221 ,\n",
              "       24500.11863458, 26262.47605749, 26103.92527641, 26904.91355782,\n",
              "       27183.19285496, 28664.67723072, 28817.1127778 , 29199.55809   ,\n",
              "       31952.51121641, 32634.05223276, 31800.14402933, 33836.71629538,\n",
              "       36656.97801583, 39204.86864214, 40611.74364286, 41082.3491121 ])"
            ]
          },
          "metadata": {
            "tags": []
          },
          "execution_count": 87
        }
      ]
    },
    {
      "cell_type": "code",
      "metadata": {
        "colab": {
          "base_uri": "https://localhost:8080/",
          "height": 350
        },
        "id": "jUL0g1lDQBEx",
        "outputId": "ee4c3b74-055e-4ee6-8c99-f110de8c73a1"
      },
      "source": [
        "plt.figure(figsize=(14,5))\n",
        "plt.plot(Y_test, color = 'red', label = 'Real Bitcoin Price')\n",
        "plt.plot(Y_pred, color = 'green', label = 'Predicted Bitcoin Price')\n",
        "plt.title('Bitcoin Price Prediction using RNN-LSTM')\n",
        "plt.xlabel('Time')\n",
        "plt.ylabel('Price')\n",
        "plt.legend()\n",
        "plt.show()"
      ],
      "execution_count": null,
      "outputs": [
        {
          "output_type": "display_data",
          "data": {
            "image/png": "[encoded data removed]",
            "text/plain": [
              "<Figure size 1008x360 with 1 Axes>"
            ]
          },
          "metadata": {
            "tags": [],
            "needs_background": "light"
          }
        }
      ]
    }
  ]
}